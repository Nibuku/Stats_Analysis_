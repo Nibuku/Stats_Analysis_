{
 "cells": [
  {
   "cell_type": "code",
   "execution_count": 44,
   "metadata": {},
   "outputs": [],
   "source": [
    "import matplotlib.pyplot as plt\n",
    "import scipy.stats as sts\n",
    "import math"
   ]
  },
  {
   "cell_type": "markdown",
   "metadata": {},
   "source": [
    "1. Смоделировать выборку из п независимых наблюдений над случайной величиной X,\n",
    "имеющей нормальный закон распределения с параметрами (-2,9)."
   ]
  },
  {
   "cell_type": "code",
   "execution_count": 45,
   "metadata": {},
   "outputs": [
    {
     "name": "stdout",
     "output_type": "stream",
     "text": [
      "[-6.71270782 -4.91245461 -5.3846     -5.95036934 -0.51811122 -4.04442909\n",
      " -2.68417683 -0.27934284 -2.605867   -7.49423258 -0.3712818  -2.56713489\n",
      "  0.00898842  0.58760335 -1.93536097 -5.54679163 -7.45559571 -5.12882561\n",
      " -1.09944255 -5.10830319 -0.47952485 -4.42170253 -7.41559638 -1.64910763\n",
      "  4.3046519  -3.24095486 -0.37335149 -3.86048638 -0.71661112 -5.95293227\n",
      " -5.62853778 -1.69210237 -0.54740328 -3.88145339 -1.82979797 -0.97779644\n",
      " -7.07195943 -2.81737371  1.82627029 -4.67608339  1.05719949 -2.2259688\n",
      " -3.00496676  0.41139166 -0.80022239 -5.27352322  2.32206651  5.79819728\n",
      " -0.062909   -5.43388607 -5.425612   -3.55130128 -7.8372714  -2.25210627\n",
      " -2.12593091 -5.33770652 -2.7430652  -2.39429247 -1.78319279 -0.71720269\n",
      "  1.52114584 -3.80180715 -6.56423316 -3.92137495 -2.57642988  0.62176537\n",
      "  3.34149419 -4.61146162 -7.14742087  0.26157932  1.16948969 -3.42035878\n",
      "  0.21553666  1.65192413  0.72913926 -3.39783813 -8.16771602 -4.06929986\n",
      " -5.1632219  -8.70830947  3.83053779 -4.29644494  0.9815747  -3.02494271\n",
      " -3.03812934 -7.34177449 -1.58306746  2.69418263 -3.12921276 -1.66492042\n",
      "  0.02143905  5.66686864 -0.14092243  0.16278177  2.5030929   2.28316902\n",
      "  1.90311889 -1.50440069 -2.85890879  0.26760358 -0.96896863 -4.61460556\n",
      " -6.12305466 -5.65368576  0.52189674 -5.53790338 -0.11431432 -0.98914513\n",
      "  1.53373573  2.31003385]\n"
     ]
    }
   ],
   "source": [
    "norm_r=sts.norm.rvs(loc=-2,scale=3, size=110)\n",
    "print(norm_r)"
   ]
  },
  {
   "cell_type": "code",
   "execution_count": 46,
   "metadata": {},
   "outputs": [],
   "source": [
    "def plot_norm(raspr):\n",
    "    \"\"\"\n",
    "        отрисовывает распределение случайных точек по равномерному нормальному закону.\n",
    "        a — параметр, характеризующий среднее значение\n",
    "        sigma — параметр, характеризующий разброс параметров (СКО)\n",
    "    \"\"\"\n",
    "    plt.hist(raspr, density=True, histtype='stepfilled',alpha=0.8)\n",
    "    plt.title('Normal')"
   ]
  },
  {
   "cell_type": "code",
   "execution_count": 47,
   "metadata": {},
   "outputs": [
    {
     "data": {
      "image/png": "[encoded data removed]",
      "text/plain": [
       "<Figure size 640x480 with 1 Axes>"
      ]
     },
     "metadata": {},
     "output_type": "display_data"
    }
   ],
   "source": [
    "plot_norm(norm_r)"
   ]
  },
  {
   "cell_type": "markdown",
   "metadata": {},
   "source": [
    "1.1. Сгруппировать данные в интервалы и найти интервальный ряд абсолютных\n",
    "частот. Число интервалов группировки выбрать в соответствии с правилом,\n",
    "указанном в Вашем варианте. Вычислить средствами Python сумму\n",
    "абсолютных частот. Построить диаграмму абсолютных частот."
   ]
  },
  {
   "cell_type": "code",
   "execution_count": 48,
   "metadata": {},
   "outputs": [],
   "source": [
    "average = sum(norm_r) / len(norm_r) #среднее значение\n"
   ]
  },
  {
   "cell_type": "code",
   "execution_count": 49,
   "metadata": {},
   "outputs": [],
   "source": [
    "sum_squared=0 #числитель для формулы Скотта\n",
    "for i in norm_r:\n",
    "    sum_squared+=(i-average)**2"
   ]
  },
  {
   "cell_type": "code",
   "execution_count": 50,
   "metadata": {},
   "outputs": [
    {
     "name": "stdout",
     "output_type": "stream",
     "text": [
      "3.1817219063265076\n"
     ]
    }
   ],
   "source": [
    "s=math.sqrt(sum_squared/(110-1))\n",
    "print(s)"
   ]
  },
  {
   "cell_type": "code",
   "execution_count": 51,
   "metadata": {},
   "outputs": [
    {
     "name": "stdout",
     "output_type": "stream",
     "text": [
      "2.3241600620174703\n"
     ]
    }
   ],
   "source": [
    "h=3.5*s*(110**(-1/3)) #ширина интервала\n",
    "print(h)"
   ]
  },
  {
   "cell_type": "code",
   "execution_count": 52,
   "metadata": {},
   "outputs": [
    {
     "name": "stdout",
     "output_type": "stream",
     "text": [
      "4.7328926177535\n"
     ]
    }
   ],
   "source": [
    "k=11/h #количество интервалов \n",
    "print(k)"
   ]
  }
 ],
 "metadata": {
  "kernelspec": {
   "display_name": "Python 3",
   "language": "python",
   "name": "python3"
  },
  "language_info": {
   "codemirror_mode": {
    "name": "ipython",
    "version": 3
   },
   "file_extension": ".py",
   "mimetype": "text/x-python",
   "name": "python",
   "nbconvert_exporter": "python",
   "pygments_lexer": "ipython3",
   "version": "3.11.9"
  }
 },
 "nbformat": 4,
 "nbformat_minor": 2
}
